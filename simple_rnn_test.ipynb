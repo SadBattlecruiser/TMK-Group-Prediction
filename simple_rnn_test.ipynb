{
 "cells": [
  {
   "cell_type": "code",
   "execution_count": 1,
   "metadata": {},
   "outputs": [],
   "source": [
    "import numpy as np\n",
    "import pandas as pd\n",
    "\n",
    "from sklearn.metrics import accuracy_score"
   ]
  },
  {
   "cell_type": "code",
   "execution_count": 2,
   "metadata": {
    "scrolled": true
   },
   "outputs": [
    {
     "data": {
      "text/html": [
       "<div>\n",
       "<style scoped>\n",
       "    .dataframe tbody tr th:only-of-type {\n",
       "        vertical-align: middle;\n",
       "    }\n",
       "\n",
       "    .dataframe tbody tr th {\n",
       "        vertical-align: top;\n",
       "    }\n",
       "\n",
       "    .dataframe thead th {\n",
       "        text-align: right;\n",
       "    }\n",
       "</style>\n",
       "<table border=\"1\" class=\"dataframe\">\n",
       "  <thead>\n",
       "    <tr style=\"text-align: right;\">\n",
       "      <th></th>\n",
       "      <th>name</th>\n",
       "      <th>group</th>\n",
       "    </tr>\n",
       "  </thead>\n",
       "  <tbody>\n",
       "    <tr>\n",
       "      <th>0</th>\n",
       "      <td>державка 30531402 mapal</td>\n",
       "      <td>Резцы</td>\n",
       "    </tr>\n",
       "    <tr>\n",
       "      <th>1</th>\n",
       "      <td>кабель кпсввнг-ls 1х2х0,75</td>\n",
       "      <td>Кабельная продукция</td>\n",
       "    </tr>\n",
       "    <tr>\n",
       "      <th>2</th>\n",
       "      <td>трубка электроизоляционная ткр ф16,0мм</td>\n",
       "      <td>Изделия электроустан</td>\n",
       "    </tr>\n",
       "    <tr>\n",
       "      <th>3</th>\n",
       "      <td>лента конвейер 2,1-1000-тк-200-2-5/2</td>\n",
       "      <td>ИзделияРезино-технич</td>\n",
       "    </tr>\n",
       "    <tr>\n",
       "      <th>4</th>\n",
       "      <td>соединение быстроразъемное hs-ss-e-0100</td>\n",
       "      <td>Запчасти</td>\n",
       "    </tr>\n",
       "    <tr>\n",
       "      <th>...</th>\n",
       "      <td>...</td>\n",
       "      <td>...</td>\n",
       "    </tr>\n",
       "    <tr>\n",
       "      <th>23967</th>\n",
       "      <td>фреза шпоночная ц/х 8,0</td>\n",
       "      <td>Фрезы</td>\n",
       "    </tr>\n",
       "    <tr>\n",
       "      <th>23968</th>\n",
       "      <td>кирпич керам полнотел одинарный м200</td>\n",
       "      <td>МатерСтроительные</td>\n",
       "    </tr>\n",
       "    <tr>\n",
       "      <th>23969</th>\n",
       "      <td>клеймо тв спл 122\"ф\" вк15</td>\n",
       "      <td>Инструменты</td>\n",
       "    </tr>\n",
       "    <tr>\n",
       "      <th>23970</th>\n",
       "      <td>элемент питания saft ls 14250/std 1/2aa</td>\n",
       "      <td>Запчасти</td>\n",
       "    </tr>\n",
       "    <tr>\n",
       "      <th>23971</th>\n",
       "      <td>труба бшхт ф170х140 н8 прецизионная</td>\n",
       "      <td>Металлопрокат</td>\n",
       "    </tr>\n",
       "  </tbody>\n",
       "</table>\n",
       "<p>23972 rows × 2 columns</p>\n",
       "</div>"
      ],
      "text/plain": [
       "                                          name                 group\n",
       "0                      державка 30531402 mapal                 Резцы\n",
       "1                   кабель кпсввнг-ls 1х2х0,75   Кабельная продукция\n",
       "2       трубка электроизоляционная ткр ф16,0мм  Изделия электроустан\n",
       "3         лента конвейер 2,1-1000-тк-200-2-5/2  ИзделияРезино-технич\n",
       "4      соединение быстроразъемное hs-ss-e-0100              Запчасти\n",
       "...                                        ...                   ...\n",
       "23967                  фреза шпоночная ц/х 8,0                 Фрезы\n",
       "23968     кирпич керам полнотел одинарный м200     МатерСтроительные\n",
       "23969                клеймо тв спл 122\"ф\" вк15           Инструменты\n",
       "23970  элемент питания saft ls 14250/std 1/2aa              Запчасти\n",
       "23971      труба бшхт ф170х140 н8 прецизионная         Металлопрокат\n",
       "\n",
       "[23972 rows x 2 columns]"
      ]
     },
     "execution_count": 2,
     "metadata": {},
     "output_type": "execute_result"
    }
   ],
   "source": [
    "# Читаем\n",
    "# Там разделитель \\t и нет имен столбцов\n",
    "data_train = pd.read_csv('train.txt', delimiter='\\t', header=0, names=['name', 'group'])\n",
    "data_validate = pd.read_csv('test.txt', delimiter='\\t', header=0, names=['name'])\n",
    "\n",
    "# В нижний регистр\n",
    "data_train['name'] = data_train['name'].str.lower()\n",
    "#data_train['group'] = data_train['group'].str.lower()\n",
    "\n",
    "data_validate['name'] = data_validate['name'].str.lower()\n",
    "\n",
    "data_train"
   ]
  },
  {
   "cell_type": "code",
   "execution_count": 3,
   "metadata": {},
   "outputs": [
    {
     "data": {
      "text/html": [
       "<div>\n",
       "<style scoped>\n",
       "    .dataframe tbody tr th:only-of-type {\n",
       "        vertical-align: middle;\n",
       "    }\n",
       "\n",
       "    .dataframe tbody tr th {\n",
       "        vertical-align: top;\n",
       "    }\n",
       "\n",
       "    .dataframe thead th {\n",
       "        text-align: right;\n",
       "    }\n",
       "</style>\n",
       "<table border=\"1\" class=\"dataframe\">\n",
       "  <thead>\n",
       "    <tr style=\"text-align: right;\">\n",
       "      <th></th>\n",
       "      <th>name</th>\n",
       "      <th>group</th>\n",
       "    </tr>\n",
       "  </thead>\n",
       "  <tbody>\n",
       "    <tr>\n",
       "      <th>0</th>\n",
       "      <td>державка          mapal</td>\n",
       "      <td>Резцы</td>\n",
       "    </tr>\n",
       "    <tr>\n",
       "      <th>1</th>\n",
       "      <td>кабель кпсввнг ls  х х</td>\n",
       "      <td>Кабельная продукция</td>\n",
       "    </tr>\n",
       "    <tr>\n",
       "      <th>2</th>\n",
       "      <td>трубка электроизоляционная ткр ф    мм</td>\n",
       "      <td>Изделия электроустан</td>\n",
       "    </tr>\n",
       "    <tr>\n",
       "      <th>3</th>\n",
       "      <td>лента конвейер          тк</td>\n",
       "      <td>ИзделияРезино-технич</td>\n",
       "    </tr>\n",
       "    <tr>\n",
       "      <th>4</th>\n",
       "      <td>соединение быстроразъемное hs ss e</td>\n",
       "      <td>Запчасти</td>\n",
       "    </tr>\n",
       "    <tr>\n",
       "      <th>...</th>\n",
       "      <td>...</td>\n",
       "      <td>...</td>\n",
       "    </tr>\n",
       "    <tr>\n",
       "      <th>23967</th>\n",
       "      <td>фреза шпоночная ц х</td>\n",
       "      <td>Фрезы</td>\n",
       "    </tr>\n",
       "    <tr>\n",
       "      <th>23968</th>\n",
       "      <td>кирпич керам полнотел одинарный м</td>\n",
       "      <td>МатерСтроительные</td>\n",
       "    </tr>\n",
       "    <tr>\n",
       "      <th>23969</th>\n",
       "      <td>клеймо тв спл     ф  вк</td>\n",
       "      <td>Инструменты</td>\n",
       "    </tr>\n",
       "    <tr>\n",
       "      <th>23970</th>\n",
       "      <td>элемент питания saft ls       std    aa</td>\n",
       "      <td>Запчасти</td>\n",
       "    </tr>\n",
       "    <tr>\n",
       "      <th>23971</th>\n",
       "      <td>труба бшхт ф   х    н  прецизионная</td>\n",
       "      <td>Металлопрокат</td>\n",
       "    </tr>\n",
       "  </tbody>\n",
       "</table>\n",
       "<p>23972 rows × 2 columns</p>\n",
       "</div>"
      ],
      "text/plain": [
       "                                          name                 group\n",
       "0                      державка          mapal                 Резцы\n",
       "1                   кабель кпсввнг ls  х х       Кабельная продукция\n",
       "2       трубка электроизоляционная ткр ф    мм  Изделия электроустан\n",
       "3         лента конвейер          тк            ИзделияРезино-технич\n",
       "4      соединение быстроразъемное hs ss e                   Запчасти\n",
       "...                                        ...                   ...\n",
       "23967                  фреза шпоночная ц х                     Фрезы\n",
       "23968     кирпич керам полнотел одинарный м        МатерСтроительные\n",
       "23969                клеймо тв спл     ф  вк             Инструменты\n",
       "23970  элемент питания saft ls       std    aa              Запчасти\n",
       "23971      труба бшхт ф   х    н  прецизионная         Металлопрокат\n",
       "\n",
       "[23972 rows x 2 columns]"
      ]
     },
     "execution_count": 3,
     "metadata": {},
     "output_type": "execute_result"
    }
   ],
   "source": [
    "# Удаляем всё, что не буквы и не цифры\n",
    "#data_train['name'] = data_train['name'].str.replace('[^a-zA-Zа-яА-Я1-9 ]', ' ')\n",
    "#data_validate['name'] = data_validate['name'].str.replace('[^a-zA-Zа-яА-Я1-9 ]', ' ')\n",
    "data_train['name'] = data_train['name'].str.replace('[^a-zA-Zа-яА-Я]', ' ')\n",
    "data_validate['name'] = data_validate['name'].str.replace('[^a-zA-Zа-яА-Я]', ' ')\n",
    "\n",
    "data_train"
   ]
  },
  {
   "cell_type": "code",
   "execution_count": 4,
   "metadata": {
    "scrolled": true
   },
   "outputs": [
    {
     "data": {
      "text/html": [
       "<div>\n",
       "<style scoped>\n",
       "    .dataframe tbody tr th:only-of-type {\n",
       "        vertical-align: middle;\n",
       "    }\n",
       "\n",
       "    .dataframe tbody tr th {\n",
       "        vertical-align: top;\n",
       "    }\n",
       "\n",
       "    .dataframe thead th {\n",
       "        text-align: right;\n",
       "    }\n",
       "</style>\n",
       "<table border=\"1\" class=\"dataframe\">\n",
       "  <thead>\n",
       "    <tr style=\"text-align: right;\">\n",
       "      <th></th>\n",
       "      <th>name</th>\n",
       "      <th>group</th>\n",
       "    </tr>\n",
       "  </thead>\n",
       "  <tbody>\n",
       "    <tr>\n",
       "      <th>0</th>\n",
       "      <td>державка mapal</td>\n",
       "      <td>Резцы</td>\n",
       "    </tr>\n",
       "    <tr>\n",
       "      <th>1</th>\n",
       "      <td>кабель кпсввнг</td>\n",
       "      <td>Кабельная продукция</td>\n",
       "    </tr>\n",
       "    <tr>\n",
       "      <th>2</th>\n",
       "      <td>трубка электроизоляционная ткр</td>\n",
       "      <td>Изделия электроустан</td>\n",
       "    </tr>\n",
       "    <tr>\n",
       "      <th>3</th>\n",
       "      <td>лента конвейер</td>\n",
       "      <td>ИзделияРезино-технич</td>\n",
       "    </tr>\n",
       "    <tr>\n",
       "      <th>4</th>\n",
       "      <td>соединение быстроразъемное</td>\n",
       "      <td>Запчасти</td>\n",
       "    </tr>\n",
       "    <tr>\n",
       "      <th>...</th>\n",
       "      <td>...</td>\n",
       "      <td>...</td>\n",
       "    </tr>\n",
       "    <tr>\n",
       "      <th>23967</th>\n",
       "      <td>фреза шпоночная</td>\n",
       "      <td>Фрезы</td>\n",
       "    </tr>\n",
       "    <tr>\n",
       "      <th>23968</th>\n",
       "      <td>кирпич керам полнотел одинарный</td>\n",
       "      <td>МатерСтроительные</td>\n",
       "    </tr>\n",
       "    <tr>\n",
       "      <th>23969</th>\n",
       "      <td>клеймо спл</td>\n",
       "      <td>Инструменты</td>\n",
       "    </tr>\n",
       "    <tr>\n",
       "      <th>23970</th>\n",
       "      <td>элемент питания saft std</td>\n",
       "      <td>Запчасти</td>\n",
       "    </tr>\n",
       "    <tr>\n",
       "      <th>23971</th>\n",
       "      <td>труба бшхт прецизионная</td>\n",
       "      <td>Металлопрокат</td>\n",
       "    </tr>\n",
       "  </tbody>\n",
       "</table>\n",
       "<p>23972 rows × 2 columns</p>\n",
       "</div>"
      ],
      "text/plain": [
       "                                  name                 group\n",
       "0                       державка mapal                 Резцы\n",
       "1                       кабель кпсввнг   Кабельная продукция\n",
       "2       трубка электроизоляционная ткр  Изделия электроустан\n",
       "3                       лента конвейер  ИзделияРезино-технич\n",
       "4           соединение быстроразъемное              Запчасти\n",
       "...                                ...                   ...\n",
       "23967                  фреза шпоночная                 Фрезы\n",
       "23968  кирпич керам полнотел одинарный     МатерСтроительные\n",
       "23969                       клеймо спл           Инструменты\n",
       "23970         элемент питания saft std              Запчасти\n",
       "23971          труба бшхт прецизионная         Металлопрокат\n",
       "\n",
       "[23972 rows x 2 columns]"
      ]
     },
     "execution_count": 4,
     "metadata": {},
     "output_type": "execute_result"
    }
   ],
   "source": [
    "# Удаляем слова короче определенного количества символов\n",
    "\n",
    "min_len = 3\n",
    "data_train['name'] = data_train['name'].str.split().map(lambda sl: \" \".join(s for s in sl if len(s) >= min_len))\n",
    "data_validate['name'] = data_validate['name'].str.split().map(lambda sl: \" \".join(s for s in sl if len(s) >= min_len))\n",
    "\n",
    "data_train"
   ]
  },
  {
   "cell_type": "code",
   "execution_count": 5,
   "metadata": {},
   "outputs": [
    {
     "data": {
      "text/plain": [
       "0                         derzhavka mapal\n",
       "1                           kabel kpsvvng\n",
       "2        trubka elektroizolyacionnaya tkr\n",
       "3                          lenta konveier\n",
       "4               soedinenie bystrorazemnoe\n",
       "                       ...               \n",
       "23967                  freza shponochnaya\n",
       "23968    kirpich keram polnotel odinarnyi\n",
       "23969                          kleimo spl\n",
       "23970           element pitaniya saft std\n",
       "23971           truba bshht precizionnaya\n",
       "Name: name, Length: 23972, dtype: object"
      ]
     },
     "execution_count": 5,
     "metadata": {},
     "output_type": "execute_result"
    }
   ],
   "source": [
    "# Попробуем кириллицу оттранслитить\n",
    "\n",
    "dictionary = {'а':'a','б':'b','в':'v','г':'g','д':'d','е':'e','ё':'yo',\n",
    "      'ж':'zh','з':'z','и':'i','й':'i','к':'k','л':'l','м':'m','н':'n',\n",
    "      'о':'o','п':'p','р':'r','с':'s','т':'t','у':'u','ф':'f','х':'h',\n",
    "      'ц':'c','ч':'ch','ш':'sh','щ':'sch','ъ':'','ы':'y','ь':'','э':'e',\n",
    "      'ю':'u','я':'ya'}\n",
    "\n",
    "for cyr, lat in dictionary.items():\n",
    "    data_train['name'] = data_train['name'].str.replace(cyr, lat)\n",
    "    data_validate['name'] = data_validate['name'].str.replace(cyr, lat)\n",
    "    \n",
    "data_train['name']"
   ]
  },
  {
   "cell_type": "code",
   "execution_count": 6,
   "metadata": {
    "scrolled": true
   },
   "outputs": [
    {
     "name": "stdout",
     "output_type": "stream",
     "text": [
      "     name                 group\n",
      "1535       Периклазоуглеродисты\n",
      "---------------------------------------------\n",
      "     name\n",
      "1276     \n",
      "1576     \n"
     ]
    }
   ],
   "source": [
    "# Проверяем, не появилось ли пустых строк. Спойлер - появились\n",
    "print(data_train[data_train['name'] == ''])\n",
    "print('---------------------------------------------')\n",
    "print(data_validate[data_validate['name'] == ''])"
   ]
  },
  {
   "cell_type": "code",
   "execution_count": 7,
   "metadata": {},
   "outputs": [
    {
     "data": {
      "text/plain": [
       "45"
      ]
     },
     "execution_count": 7,
     "metadata": {},
     "output_type": "execute_result"
    }
   ],
   "source": [
    "# Длина самой длинной строки\n",
    "# Столько символов должна будет принимать нейронка, строки короче дополним пробелами\n",
    "max_str_len = data_train['name'].str.len().max()\n",
    "#print(max_str_len)\n",
    "\n",
    "def str_extension(strings, new_len):    \n",
    "    for i, str_i in enumerate(strings):\n",
    "        if len(str_i) < new_len:\n",
    "            strings[i] = str_i + ' '*(new_len - len(str_i))\n",
    "    return strings\n",
    "\n",
    "#text_train = str_extension(data_train['name'].tolist(), max_str_len)\n",
    "#text_validate = str_extension(data_validate['name'].tolist(), max_str_len)\n",
    "\n",
    "# Не будем удлинять, юзнем потом padsequence\n",
    "text_train = data_train['name'].tolist()\n",
    "text_validate = data_validate['name'].tolist()\n",
    "\n",
    "max_str_len"
   ]
  },
  {
   "cell_type": "code",
   "execution_count": 8,
   "metadata": {},
   "outputs": [
    {
     "name": "stdout",
     "output_type": "stream",
     "text": [
      "Количество уникальных символов: 27\n"
     ]
    },
    {
     "data": {
      "text/plain": [
       "(23972, 45)"
      ]
     },
     "execution_count": 8,
     "metadata": {},
     "output_type": "execute_result"
    }
   ],
   "source": [
    "# Превращаем тексты в последовательности чисел, соответствующих символам\n",
    "from keras.preprocessing.text import Tokenizer\n",
    "from keras.preprocessing.sequence import pad_sequences\n",
    "\n",
    "#tokenizer = Tokenizer(num_words=num_characters, char_level=True)\n",
    "tokenizer = Tokenizer(char_level=True)  # токенизируем на уровне символов\n",
    "tokenizer.fit_on_texts(data_train['name'].tolist())  # формируем токены на основе частотности в нашем тексте\n",
    "\n",
    "# Здесь каждую строку в лист чисел\n",
    "X_train = tokenizer.texts_to_sequences(text_train)\n",
    "X_validate = tokenizer.texts_to_sequences(text_validate)\n",
    "\n",
    "# Выравниваем длину, добавляя нули первыми\n",
    "X_train = pad_sequences(X_train, maxlen=max_str_len)\n",
    "X_validate = pad_sequences(X_validate,  maxlen=max_str_len)\n",
    "\n",
    "# Количество уникальных символов, которые мы тут имеем\n",
    "num_characters = len(tokenizer.word_index)\n",
    "print('Количество уникальных символов:', num_characters)\n",
    "X_train.shape"
   ]
  },
  {
   "cell_type": "code",
   "execution_count": 9,
   "metadata": {},
   "outputs": [
    {
     "data": {
      "text/plain": [
       "(23972, 45)"
      ]
     },
     "execution_count": 9,
     "metadata": {},
     "output_type": "execute_result"
    }
   ],
   "source": [
    "### !!! Это нужно, если на входе нет embedded-слоя. Он кушает прямо последовательности чисел\n",
    "\n",
    "# Теперь надо каждое число превратить в OHE-массив с длиной num_characters\n",
    "\n",
    "def sequences_tp_ohe_array(sequences, num_words):\n",
    "    ohe_arr = np.ndarray((sequences.shape[0], sequences.shape[1], num_words))\n",
    "    for i, sequence in enumerate(sequences):\n",
    "        for j, val in enumerate(sequence):\n",
    "            temp = np.zeros(num_words)\n",
    "            if val:\n",
    "                temp[val-1] = 1\n",
    "            ohe_arr[i, j] = temp\n",
    "    return ohe_arr\n",
    "\n",
    "#X_train = sequences_tp_ohe_array(X_train, num_characters)\n",
    "#X_validate = sequences_tp_ohe_array(X_validate, num_characters)\n",
    "\n",
    "# Такая функция уже есть, как не трудно было догадаться\n",
    "from tensorflow.keras.utils import to_categorical\n",
    "\n",
    "#X_train = to_categorical(X_train, num_classes=num_characters+1)\n",
    "#X_validate = to_categorical(X_validate, num_classes=num_characters+1)\n",
    "\n",
    "X_train.shape"
   ]
  },
  {
   "cell_type": "code",
   "execution_count": 10,
   "metadata": {},
   "outputs": [
    {
     "data": {
      "text/plain": [
       "array([[0., 0., 0., ..., 0., 0., 0.],\n",
       "       [0., 0., 0., ..., 0., 0., 0.],\n",
       "       [0., 0., 0., ..., 0., 0., 0.],\n",
       "       ...,\n",
       "       [0., 0., 0., ..., 0., 0., 0.],\n",
       "       [0., 0., 0., ..., 0., 0., 0.],\n",
       "       [0., 0., 0., ..., 0., 0., 0.]])"
      ]
     },
     "execution_count": 10,
     "metadata": {},
     "output_type": "execute_result"
    }
   ],
   "source": [
    "# Заменим категории на другой OHE\n",
    "from sklearn.preprocessing import OneHotEncoder\n",
    "\n",
    "enc = OneHotEncoder(handle_unknown='ignore')\n",
    "y_train = enc.fit_transform(data_train['group'].to_numpy().reshape(-1, 1)).toarray()\n",
    "y_train"
   ]
  },
  {
   "cell_type": "code",
   "execution_count": 11,
   "metadata": {},
   "outputs": [
    {
     "name": "stdout",
     "output_type": "stream",
     "text": [
      "96\n"
     ]
    }
   ],
   "source": [
    "# Количество уникальных классов\n",
    "n_categories = enc.categories_[0].shape[0]\n",
    "print(n_categories)"
   ]
  },
  {
   "cell_type": "code",
   "execution_count": 19,
   "metadata": {},
   "outputs": [
    {
     "name": "stdout",
     "output_type": "stream",
     "text": [
      "Model: \"sequential_1\"\n",
      "_________________________________________________________________\n",
      "Layer (type)                 Output Shape              Param #   \n",
      "=================================================================\n",
      "embedding_1 (Embedding)      (None, 45, 128)           3584      \n",
      "_________________________________________________________________\n",
      "simple_rnn_2 (SimpleRNN)     (None, 45, 128)           32896     \n",
      "_________________________________________________________________\n",
      "simple_rnn_3 (SimpleRNN)     (None, 45, 128)           32896     \n",
      "_________________________________________________________________\n",
      "simple_rnn_4 (SimpleRNN)     (None, 128)               32896     \n",
      "_________________________________________________________________\n",
      "dense_1 (Dense)              (None, 96)                12384     \n",
      "=================================================================\n",
      "Total params: 114,656\n",
      "Trainable params: 114,656\n",
      "Non-trainable params: 0\n",
      "_________________________________________________________________\n"
     ]
    }
   ],
   "source": [
    "# Попробуем простенькую модельку\n",
    "import keras as k\n",
    "\n",
    "model = k.models.Sequential()\n",
    "#model.add(k.layers.Input((max_str_len, num_characters)))\n",
    "model.add(k.layers.Embedding(num_characters+1, 128, input_length = max_str_len))\n",
    "model.add(k.layers.SimpleRNN(128, activation='tanh', return_sequences=True))\n",
    "#model.add(k.layers.SimpleRNN(128, activation='tanh', return_sequences=True))\n",
    "model.add(k.layers.SimpleRNN(128, activation='tanh'))\n",
    "model.add(k.layers.Dense(n_categories, activation='softmax'))\n",
    "model.summary()\n",
    "\n",
    "model.compile(loss='categorical_crossentropy', metrics=['accuracy'], optimizer='adam')"
   ]
  },
  {
   "cell_type": "code",
   "execution_count": 26,
   "metadata": {},
   "outputs": [
    {
     "name": "stdout",
     "output_type": "stream",
     "text": [
      "Epoch 1/2\n",
      "108/108 [==============================] - 15s 136ms/step - loss: 0.8441 - accuracy: 0.7644 - val_loss: 1.4593 - val_accuracy: 0.6643\n",
      "Epoch 2/2\n",
      "108/108 [==============================] - 15s 137ms/step - loss: 0.7517 - accuracy: 0.7879 - val_loss: 1.4444 - val_accuracy: 0.6643\n"
     ]
    }
   ],
   "source": [
    "# Учимся\n",
    "history = model.fit(X_train, y_train, batch_size=200, epochs=2, validation_split = 0.1)"
   ]
  },
  {
   "cell_type": "code",
   "execution_count": 27,
   "metadata": {},
   "outputs": [
    {
     "name": "stdout",
     "output_type": "stream",
     "text": [
      "INFO:tensorflow:Assets written to: .\\saved_model\\assets\n"
     ]
    }
   ],
   "source": [
    "# Записываем веса в файл\n",
    "model.save('.\\\\simple_rnn_saved')"
   ]
  },
  {
   "cell_type": "code",
   "execution_count": 25,
   "metadata": {},
   "outputs": [],
   "source": [
    "# Читаем веса из файла\n",
    "model = k.models.load_model('.\\\\simple_rnn_saved')"
   ]
  },
  {
   "cell_type": "code",
   "execution_count": null,
   "metadata": {},
   "outputs": [],
   "source": []
  }
 ],
 "metadata": {
  "kernelspec": {
   "display_name": "Python 3",
   "language": "python",
   "name": "python3"
  },
  "language_info": {
   "codemirror_mode": {
    "name": "ipython",
    "version": 3
   },
   "file_extension": ".py",
   "mimetype": "text/x-python",
   "name": "python",
   "nbconvert_exporter": "python",
   "pygments_lexer": "ipython3",
   "version": "3.8.8"
  }
 },
 "nbformat": 4,
 "nbformat_minor": 4
}
