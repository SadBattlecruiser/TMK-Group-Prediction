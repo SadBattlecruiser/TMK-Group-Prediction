{
 "cells": [
  {
   "cell_type": "code",
   "execution_count": 20,
   "metadata": {},
   "outputs": [],
   "source": [
    "import numpy as np\n",
    "import pandas as pd\n",
    "\n",
    "from sklearn.metrics import accuracy_score"
   ]
  },
  {
   "cell_type": "code",
   "execution_count": 140,
   "metadata": {
    "scrolled": true
   },
   "outputs": [
    {
     "data": {
      "text/html": [
       "<div>\n",
       "<style scoped>\n",
       "    .dataframe tbody tr th:only-of-type {\n",
       "        vertical-align: middle;\n",
       "    }\n",
       "\n",
       "    .dataframe tbody tr th {\n",
       "        vertical-align: top;\n",
       "    }\n",
       "\n",
       "    .dataframe thead th {\n",
       "        text-align: right;\n",
       "    }\n",
       "</style>\n",
       "<table border=\"1\" class=\"dataframe\">\n",
       "  <thead>\n",
       "    <tr style=\"text-align: right;\">\n",
       "      <th></th>\n",
       "      <th>name</th>\n",
       "      <th>group</th>\n",
       "    </tr>\n",
       "  </thead>\n",
       "  <tbody>\n",
       "    <tr>\n",
       "      <th>0</th>\n",
       "      <td>державка 30531402 mapal</td>\n",
       "      <td>Резцы</td>\n",
       "    </tr>\n",
       "    <tr>\n",
       "      <th>1</th>\n",
       "      <td>кабель кпсввнг-ls 1х2х0,75</td>\n",
       "      <td>Кабельная продукция</td>\n",
       "    </tr>\n",
       "    <tr>\n",
       "      <th>2</th>\n",
       "      <td>трубка электроизоляционная ткр ф16,0мм</td>\n",
       "      <td>Изделия электроустан</td>\n",
       "    </tr>\n",
       "    <tr>\n",
       "      <th>3</th>\n",
       "      <td>лента конвейер 2,1-1000-тк-200-2-5/2</td>\n",
       "      <td>ИзделияРезино-технич</td>\n",
       "    </tr>\n",
       "    <tr>\n",
       "      <th>4</th>\n",
       "      <td>соединение быстроразъемное hs-ss-e-0100</td>\n",
       "      <td>Запчасти</td>\n",
       "    </tr>\n",
       "    <tr>\n",
       "      <th>...</th>\n",
       "      <td>...</td>\n",
       "      <td>...</td>\n",
       "    </tr>\n",
       "    <tr>\n",
       "      <th>23967</th>\n",
       "      <td>фреза шпоночная ц/х 8,0</td>\n",
       "      <td>Фрезы</td>\n",
       "    </tr>\n",
       "    <tr>\n",
       "      <th>23968</th>\n",
       "      <td>кирпич керам полнотел одинарный м200</td>\n",
       "      <td>МатерСтроительные</td>\n",
       "    </tr>\n",
       "    <tr>\n",
       "      <th>23969</th>\n",
       "      <td>клеймо тв спл 122\"ф\" вк15</td>\n",
       "      <td>Инструменты</td>\n",
       "    </tr>\n",
       "    <tr>\n",
       "      <th>23970</th>\n",
       "      <td>элемент питания saft ls 14250/std 1/2aa</td>\n",
       "      <td>Запчасти</td>\n",
       "    </tr>\n",
       "    <tr>\n",
       "      <th>23971</th>\n",
       "      <td>труба бшхт ф170х140 н8 прецизионная</td>\n",
       "      <td>Металлопрокат</td>\n",
       "    </tr>\n",
       "  </tbody>\n",
       "</table>\n",
       "<p>23972 rows × 2 columns</p>\n",
       "</div>"
      ],
      "text/plain": [
       "                                          name                 group\n",
       "0                      державка 30531402 mapal                 Резцы\n",
       "1                   кабель кпсввнг-ls 1х2х0,75   Кабельная продукция\n",
       "2       трубка электроизоляционная ткр ф16,0мм  Изделия электроустан\n",
       "3         лента конвейер 2,1-1000-тк-200-2-5/2  ИзделияРезино-технич\n",
       "4      соединение быстроразъемное hs-ss-e-0100              Запчасти\n",
       "...                                        ...                   ...\n",
       "23967                  фреза шпоночная ц/х 8,0                 Фрезы\n",
       "23968     кирпич керам полнотел одинарный м200     МатерСтроительные\n",
       "23969                клеймо тв спл 122\"ф\" вк15           Инструменты\n",
       "23970  элемент питания saft ls 14250/std 1/2aa              Запчасти\n",
       "23971      труба бшхт ф170х140 н8 прецизионная         Металлопрокат\n",
       "\n",
       "[23972 rows x 2 columns]"
      ]
     },
     "execution_count": 140,
     "metadata": {},
     "output_type": "execute_result"
    }
   ],
   "source": [
    "# Читаем\n",
    "# Там разделитель \\t и нет имен столбцов\n",
    "data_train = pd.read_csv('train.txt', delimiter='\\t', header=0, names=['name', 'group'])\n",
    "data_validate = pd.read_csv('test.txt', delimiter='\\t', header=0, names=['name'])\n",
    "\n",
    "# В нижний регистр\n",
    "data_train['name'] = data_train['name'].str.lower()\n",
    "#data_train['group'] = data_train['group'].str.lower()\n",
    "\n",
    "data_validate['name'] = data_validate['name'].str.lower()\n",
    "\n",
    "data_train"
   ]
  },
  {
   "cell_type": "code",
   "execution_count": 141,
   "metadata": {
    "scrolled": false
   },
   "outputs": [
    {
     "data": {
      "text/plain": [
       "Запчасти                5757\n",
       "Метизы                  1378\n",
       "З/Ч АвтомобПромышл      1257\n",
       "З/Ч по чертежам          985\n",
       "Инструменты              826\n",
       "                        ... \n",
       "ПродукцЦеллюлозБумаж      39\n",
       "Пилы                      37\n",
       "ЗаготовкаИнстр и з/ч      34\n",
       "Цепи и звенья             34\n",
       "Теплоизоляционные         13\n",
       "Name: group, Length: 96, dtype: int64"
      ]
     },
     "execution_count": 141,
     "metadata": {},
     "output_type": "execute_result"
    }
   ],
   "source": [
    "# Пустых значений там нет. А какие есть?\n",
    "group_counts = data_train['group'].value_counts()\n",
    "group_counts"
   ]
  },
  {
   "cell_type": "code",
   "execution_count": 142,
   "metadata": {},
   "outputs": [
    {
     "data": {
      "text/html": [
       "<div>\n",
       "<style scoped>\n",
       "    .dataframe tbody tr th:only-of-type {\n",
       "        vertical-align: middle;\n",
       "    }\n",
       "\n",
       "    .dataframe tbody tr th {\n",
       "        vertical-align: top;\n",
       "    }\n",
       "\n",
       "    .dataframe thead th {\n",
       "        text-align: right;\n",
       "    }\n",
       "</style>\n",
       "<table border=\"1\" class=\"dataframe\">\n",
       "  <thead>\n",
       "    <tr style=\"text-align: right;\">\n",
       "      <th></th>\n",
       "      <th>name</th>\n",
       "      <th>group</th>\n",
       "    </tr>\n",
       "  </thead>\n",
       "  <tbody>\n",
       "    <tr>\n",
       "      <th>0</th>\n",
       "      <td>державка          mapal</td>\n",
       "      <td>Резцы</td>\n",
       "    </tr>\n",
       "    <tr>\n",
       "      <th>1</th>\n",
       "      <td>кабель кпсввнг ls  х х</td>\n",
       "      <td>Кабельная продукция</td>\n",
       "    </tr>\n",
       "    <tr>\n",
       "      <th>2</th>\n",
       "      <td>трубка электроизоляционная ткр ф    мм</td>\n",
       "      <td>Изделия электроустан</td>\n",
       "    </tr>\n",
       "    <tr>\n",
       "      <th>3</th>\n",
       "      <td>лента конвейер          тк</td>\n",
       "      <td>ИзделияРезино-технич</td>\n",
       "    </tr>\n",
       "    <tr>\n",
       "      <th>4</th>\n",
       "      <td>соединение быстроразъемное hs ss e</td>\n",
       "      <td>Запчасти</td>\n",
       "    </tr>\n",
       "    <tr>\n",
       "      <th>...</th>\n",
       "      <td>...</td>\n",
       "      <td>...</td>\n",
       "    </tr>\n",
       "    <tr>\n",
       "      <th>23967</th>\n",
       "      <td>фреза шпоночная ц х</td>\n",
       "      <td>Фрезы</td>\n",
       "    </tr>\n",
       "    <tr>\n",
       "      <th>23968</th>\n",
       "      <td>кирпич керам полнотел одинарный м</td>\n",
       "      <td>МатерСтроительные</td>\n",
       "    </tr>\n",
       "    <tr>\n",
       "      <th>23969</th>\n",
       "      <td>клеймо тв спл     ф  вк</td>\n",
       "      <td>Инструменты</td>\n",
       "    </tr>\n",
       "    <tr>\n",
       "      <th>23970</th>\n",
       "      <td>элемент питания saft ls       std    aa</td>\n",
       "      <td>Запчасти</td>\n",
       "    </tr>\n",
       "    <tr>\n",
       "      <th>23971</th>\n",
       "      <td>труба бшхт ф   х    н  прецизионная</td>\n",
       "      <td>Металлопрокат</td>\n",
       "    </tr>\n",
       "  </tbody>\n",
       "</table>\n",
       "<p>23972 rows × 2 columns</p>\n",
       "</div>"
      ],
      "text/plain": [
       "                                          name                 group\n",
       "0                      державка          mapal                 Резцы\n",
       "1                   кабель кпсввнг ls  х х       Кабельная продукция\n",
       "2       трубка электроизоляционная ткр ф    мм  Изделия электроустан\n",
       "3         лента конвейер          тк            ИзделияРезино-технич\n",
       "4      соединение быстроразъемное hs ss e                   Запчасти\n",
       "...                                        ...                   ...\n",
       "23967                  фреза шпоночная ц х                     Фрезы\n",
       "23968     кирпич керам полнотел одинарный м        МатерСтроительные\n",
       "23969                клеймо тв спл     ф  вк             Инструменты\n",
       "23970  элемент питания saft ls       std    aa              Запчасти\n",
       "23971      труба бшхт ф   х    н  прецизионная         Металлопрокат\n",
       "\n",
       "[23972 rows x 2 columns]"
      ]
     },
     "execution_count": 142,
     "metadata": {},
     "output_type": "execute_result"
    }
   ],
   "source": [
    "# Удаляем всё, что не буквы и не цифры\n",
    "#data_train['name'] = data_train['name'].str.replace('[^a-zA-Zа-яА-Я1-9 ]', ' ')\n",
    "#data_validate['name'] = data_validate['name'].str.replace('[^a-zA-Zа-яА-Я1-9 ]', ' ')\n",
    "data_train['name'] = data_train['name'].str.replace('[^a-zA-Zа-яА-Я]', ' ')\n",
    "data_validate['name'] = data_validate['name'].str.replace('[^a-zA-Zа-яА-Я]', ' ')\n",
    "\n",
    "data_train"
   ]
  },
  {
   "cell_type": "code",
   "execution_count": 143,
   "metadata": {},
   "outputs": [
    {
     "data": {
      "text/html": [
       "<div>\n",
       "<style scoped>\n",
       "    .dataframe tbody tr th:only-of-type {\n",
       "        vertical-align: middle;\n",
       "    }\n",
       "\n",
       "    .dataframe tbody tr th {\n",
       "        vertical-align: top;\n",
       "    }\n",
       "\n",
       "    .dataframe thead th {\n",
       "        text-align: right;\n",
       "    }\n",
       "</style>\n",
       "<table border=\"1\" class=\"dataframe\">\n",
       "  <thead>\n",
       "    <tr style=\"text-align: right;\">\n",
       "      <th></th>\n",
       "      <th>name</th>\n",
       "      <th>group</th>\n",
       "    </tr>\n",
       "  </thead>\n",
       "  <tbody>\n",
       "    <tr>\n",
       "      <th>0</th>\n",
       "      <td>державка mapal</td>\n",
       "      <td>Резцы</td>\n",
       "    </tr>\n",
       "    <tr>\n",
       "      <th>1</th>\n",
       "      <td>кабель кпсввнг ls</td>\n",
       "      <td>Кабельная продукция</td>\n",
       "    </tr>\n",
       "    <tr>\n",
       "      <th>2</th>\n",
       "      <td>трубка электроизоляционная ткр мм</td>\n",
       "      <td>Изделия электроустан</td>\n",
       "    </tr>\n",
       "    <tr>\n",
       "      <th>3</th>\n",
       "      <td>лента конвейер тк</td>\n",
       "      <td>ИзделияРезино-технич</td>\n",
       "    </tr>\n",
       "    <tr>\n",
       "      <th>4</th>\n",
       "      <td>соединение быстроразъемное hs ss</td>\n",
       "      <td>Запчасти</td>\n",
       "    </tr>\n",
       "    <tr>\n",
       "      <th>...</th>\n",
       "      <td>...</td>\n",
       "      <td>...</td>\n",
       "    </tr>\n",
       "    <tr>\n",
       "      <th>23967</th>\n",
       "      <td>фреза шпоночная</td>\n",
       "      <td>Фрезы</td>\n",
       "    </tr>\n",
       "    <tr>\n",
       "      <th>23968</th>\n",
       "      <td>кирпич керам полнотел одинарный</td>\n",
       "      <td>МатерСтроительные</td>\n",
       "    </tr>\n",
       "    <tr>\n",
       "      <th>23969</th>\n",
       "      <td>клеймо тв спл вк</td>\n",
       "      <td>Инструменты</td>\n",
       "    </tr>\n",
       "    <tr>\n",
       "      <th>23970</th>\n",
       "      <td>элемент питания saft ls std aa</td>\n",
       "      <td>Запчасти</td>\n",
       "    </tr>\n",
       "    <tr>\n",
       "      <th>23971</th>\n",
       "      <td>труба бшхт прецизионная</td>\n",
       "      <td>Металлопрокат</td>\n",
       "    </tr>\n",
       "  </tbody>\n",
       "</table>\n",
       "<p>23972 rows × 2 columns</p>\n",
       "</div>"
      ],
      "text/plain": [
       "                                    name                 group\n",
       "0                         державка mapal                 Резцы\n",
       "1                      кабель кпсввнг ls   Кабельная продукция\n",
       "2      трубка электроизоляционная ткр мм  Изделия электроустан\n",
       "3                      лента конвейер тк  ИзделияРезино-технич\n",
       "4       соединение быстроразъемное hs ss              Запчасти\n",
       "...                                  ...                   ...\n",
       "23967                    фреза шпоночная                 Фрезы\n",
       "23968    кирпич керам полнотел одинарный     МатерСтроительные\n",
       "23969                   клеймо тв спл вк           Инструменты\n",
       "23970     элемент питания saft ls std aa              Запчасти\n",
       "23971            труба бшхт прецизионная         Металлопрокат\n",
       "\n",
       "[23972 rows x 2 columns]"
      ]
     },
     "execution_count": 143,
     "metadata": {},
     "output_type": "execute_result"
    }
   ],
   "source": [
    "# Удаляем слова короче определенного количества символов\n",
    "\n",
    "min_len = 2\n",
    "data_train['name'] = data_train['name'].str.split().map(lambda sl: \" \".join(s for s in sl if len(s) >= min_len))\n",
    "data_validate['name'] = data_validate['name'].str.split().map(lambda sl: \" \".join(s for s in sl if len(s) >= min_len))\n",
    "\n",
    "data_train"
   ]
  },
  {
   "cell_type": "code",
   "execution_count": 144,
   "metadata": {},
   "outputs": [
    {
     "name": "stdout",
     "output_type": "stream",
     "text": [
      "Empty DataFrame\n",
      "Columns: [name, group]\n",
      "Index: []\n",
      "---------------------------------------------\n",
      "Empty DataFrame\n",
      "Columns: [name]\n",
      "Index: []\n"
     ]
    }
   ],
   "source": [
    "# Проверяем, не появилось ли пустых строк. Спойлер - появились\n",
    "print(data_train[data_train['name'] == ''])\n",
    "print('---------------------------------------------')\n",
    "print(data_validate[data_validate['name'] == ''])"
   ]
  },
  {
   "cell_type": "code",
   "execution_count": 145,
   "metadata": {},
   "outputs": [
    {
     "data": {
      "text/plain": [
       "array([[0., 0., 0., ..., 0., 0., 0.],\n",
       "       [0., 0., 0., ..., 0., 0., 0.],\n",
       "       [0., 0., 0., ..., 0., 0., 0.],\n",
       "       ...,\n",
       "       [0., 0., 0., ..., 0., 0., 0.],\n",
       "       [0., 0., 0., ..., 0., 0., 0.],\n",
       "       [0., 0., 0., ..., 0., 0., 0.]])"
      ]
     },
     "execution_count": 145,
     "metadata": {},
     "output_type": "execute_result"
    }
   ],
   "source": [
    "# Заменим категории на onehot\n",
    "#!!! Это можно не делать, как видно ниже\n",
    "from sklearn.preprocessing import OneHotEncoder\n",
    "\n",
    "enc = OneHotEncoder(handle_unknown='ignore')\n",
    "y_train_full = enc.fit_transform(data_train['group'].to_numpy().reshape(-1, 1)).toarray()\n",
    "y_train_full"
   ]
  },
  {
   "cell_type": "code",
   "execution_count": 146,
   "metadata": {
    "scrolled": true
   },
   "outputs": [
    {
     "data": {
      "text/plain": [
       "<23972x11128 sparse matrix of type '<class 'numpy.int64'>'\n",
       "\twith 75162 stored elements in Compressed Sparse Row format>"
      ]
     },
     "execution_count": 146,
     "metadata": {},
     "output_type": "execute_result"
    }
   ],
   "source": [
    "# Сделаем baseline обычной векторизацией\n",
    "from sklearn.feature_extraction.text import CountVectorizer\n",
    "\n",
    "count_vectorizer = CountVectorizer()\n",
    "X_train_full = count_vectorizer.fit_transform(data_train['name'])\n",
    "X_validate_full = count_vectorizer.transform(data_validate['name'])\n",
    "\n",
    "X_train_full"
   ]
  },
  {
   "cell_type": "code",
   "execution_count": 147,
   "metadata": {},
   "outputs": [
    {
     "data": {
      "text/plain": [
       "<23972x11128 sparse matrix of type '<class 'numpy.float64'>'\n",
       "\twith 75162 stored elements in Compressed Sparse Row format>"
      ]
     },
     "execution_count": 147,
     "metadata": {},
     "output_type": "execute_result"
    }
   ],
   "source": [
    "# Еще попробуем tf_idf\n",
    "from sklearn.feature_extraction.text import TfidfVectorizer\n",
    "\n",
    "tfidf_vectorizer = TfidfVectorizer()\n",
    "X_train_full = tfidf_vectorizer.fit_transform(data_train['name'])\n",
    "X_validate_full = tfidf_vectorizer.transform(data_validate['name'])\n",
    "\n",
    "X_train_full"
   ]
  },
  {
   "cell_type": "code",
   "execution_count": 148,
   "metadata": {},
   "outputs": [],
   "source": [
    "# Разделение на обучающую и тестовую выборки\n",
    "from sklearn.model_selection import train_test_split\n",
    "\n",
    "#X_train, X_test, y_train, y_test = train_test_split(X_train_full, y_train_full, test_size=0.2, random_state=42)\n",
    "X_train, X_test, y_train, y_test = train_test_split(X_train_full, data_train['group'], test_size=0.2, random_state=42)"
   ]
  },
  {
   "cell_type": "code",
   "execution_count": 149,
   "metadata": {},
   "outputs": [
    {
     "name": "stdout",
     "output_type": "stream",
     "text": [
      "rf_clf accuracy score:  0.6588112617309697\n"
     ]
    }
   ],
   "source": [
    "# Юзнем случайный лес\n",
    "from sklearn.ensemble import RandomForestClassifier\n",
    "\n",
    "rf_clf = RandomForestClassifier(max_depth=100, random_state=42, n_jobs=3)\n",
    "rf_clf.fit(X_train, y_train)\n",
    "\n",
    "y_pred = rf_clf.predict(X_test)\n",
    "# Корректно работает для двумерных массивов\n",
    "print('rf_clf accuracy score: ', accuracy_score(y_test, y_pred))"
   ]
  },
  {
   "cell_type": "code",
   "execution_count": 150,
   "metadata": {},
   "outputs": [
    {
     "name": "stdout",
     "output_type": "stream",
     "text": [
      "lr_clf accuracy score:  0.7023983315954119\n"
     ]
    },
    {
     "name": "stderr",
     "output_type": "stream",
     "text": [
      "c:\\users\\boget\\appdata\\local\\programs\\python\\python38\\lib\\site-packages\\sklearn\\linear_model\\_logistic.py:763: ConvergenceWarning: lbfgs failed to converge (status=1):\n",
      "STOP: TOTAL NO. of ITERATIONS REACHED LIMIT.\n",
      "\n",
      "Increase the number of iterations (max_iter) or scale the data as shown in:\n",
      "    https://scikit-learn.org/stable/modules/preprocessing.html\n",
      "Please also refer to the documentation for alternative solver options:\n",
      "    https://scikit-learn.org/stable/modules/linear_model.html#logistic-regression\n",
      "  n_iter_i = _check_optimize_result(\n"
     ]
    }
   ],
   "source": [
    "# Юзнем логистическую регрессию\n",
    "from sklearn.linear_model import LogisticRegression\n",
    "\n",
    "lr_clf = LogisticRegression(random_state=42)\n",
    "lr_clf.fit(X_train, y_train)\n",
    "\n",
    "y_pred = lr_clf.predict(X_test)\n",
    "# Корректно работает для двумерных массивов\n",
    "print('lr_clf accuracy score: ', accuracy_score(y_test, y_pred))\n"
   ]
  },
  {
   "cell_type": "code",
   "execution_count": 151,
   "metadata": {},
   "outputs": [
    {
     "name": "stdout",
     "output_type": "stream",
     "text": [
      "sgd_clf accuracy score:  0.764754953076121\n"
     ]
    }
   ],
   "source": [
    "# Юзнем SGD\n",
    "from sklearn.linear_model import SGDClassifier\n",
    "\n",
    "sgd_clf = SGDClassifier(max_iter=1000, tol=1e-3)\n",
    "sgd_clf.fit(X_train, y_train)\n",
    "\n",
    "y_pred = sgd_clf.predict(X_test)\n",
    "# Корректно работает для двумерных массивов\n",
    "print('sgd_clf accuracy score: ', accuracy_score(y_test, y_pred))"
   ]
  },
  {
   "cell_type": "code",
   "execution_count": 136,
   "metadata": {},
   "outputs": [
    {
     "name": "stdout",
     "output_type": "stream",
     "text": [
      "svm_clf accuracy score:  0.6617309697601669\n"
     ]
    }
   ],
   "source": [
    "# Юзнем SVM\n",
    "from sklearn.pipeline import make_pipeline\n",
    "from sklearn.preprocessing import StandardScaler\n",
    "from sklearn.svm import SVC\n",
    "\n",
    "svm_clf = make_pipeline(StandardScaler(with_mean=False), SVC(gamma='auto'))\n",
    "#svm_clf = SVC(gamma='auto')\n",
    "svm_clf.fit(X_train, y_train)\n",
    "\n",
    "y_pred = svm_clf.predict(X_test)\n",
    "# Корректно работает для двумерных массивов\n",
    "print('svm_clf accuracy score: ', accuracy_score(y_test, y_pred))"
   ]
  }
 ],
 "metadata": {
  "kernelspec": {
   "display_name": "Python 3",
   "language": "python",
   "name": "python3"
  },
  "language_info": {
   "codemirror_mode": {
    "name": "ipython",
    "version": 3
   },
   "file_extension": ".py",
   "mimetype": "text/x-python",
   "name": "python",
   "nbconvert_exporter": "python",
   "pygments_lexer": "ipython3",
   "version": "3.8.8"
  }
 },
 "nbformat": 4,
 "nbformat_minor": 4
}
