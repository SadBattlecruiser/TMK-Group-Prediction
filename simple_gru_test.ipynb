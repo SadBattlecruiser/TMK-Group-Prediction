{
 "cells": [
  {
   "cell_type": "code",
   "execution_count": 1,
   "metadata": {},
   "outputs": [],
   "source": [
    "import numpy as np\n",
    "import pandas as pd\n",
    "\n",
    "from sklearn.metrics import accuracy_score"
   ]
  },
  {
   "cell_type": "code",
   "execution_count": 50,
   "metadata": {
    "scrolled": true
   },
   "outputs": [
    {
     "data": {
      "text/html": [
       "<div>\n",
       "<style scoped>\n",
       "    .dataframe tbody tr th:only-of-type {\n",
       "        vertical-align: middle;\n",
       "    }\n",
       "\n",
       "    .dataframe tbody tr th {\n",
       "        vertical-align: top;\n",
       "    }\n",
       "\n",
       "    .dataframe thead th {\n",
       "        text-align: right;\n",
       "    }\n",
       "</style>\n",
       "<table border=\"1\" class=\"dataframe\">\n",
       "  <thead>\n",
       "    <tr style=\"text-align: right;\">\n",
       "      <th></th>\n",
       "      <th>name</th>\n",
       "      <th>group</th>\n",
       "    </tr>\n",
       "  </thead>\n",
       "  <tbody>\n",
       "    <tr>\n",
       "      <th>0</th>\n",
       "      <td>державка 30531402 mapal</td>\n",
       "      <td>Резцы</td>\n",
       "    </tr>\n",
       "    <tr>\n",
       "      <th>1</th>\n",
       "      <td>кабель кпсввнг-ls 1х2х0,75</td>\n",
       "      <td>Кабельная продукция</td>\n",
       "    </tr>\n",
       "    <tr>\n",
       "      <th>2</th>\n",
       "      <td>трубка электроизоляционная ткр ф16,0мм</td>\n",
       "      <td>Изделия электроустан</td>\n",
       "    </tr>\n",
       "    <tr>\n",
       "      <th>3</th>\n",
       "      <td>лента конвейер 2,1-1000-тк-200-2-5/2</td>\n",
       "      <td>ИзделияРезино-технич</td>\n",
       "    </tr>\n",
       "    <tr>\n",
       "      <th>4</th>\n",
       "      <td>соединение быстроразъемное hs-ss-e-0100</td>\n",
       "      <td>Запчасти</td>\n",
       "    </tr>\n",
       "    <tr>\n",
       "      <th>...</th>\n",
       "      <td>...</td>\n",
       "      <td>...</td>\n",
       "    </tr>\n",
       "    <tr>\n",
       "      <th>23967</th>\n",
       "      <td>фреза шпоночная ц/х 8,0</td>\n",
       "      <td>Фрезы</td>\n",
       "    </tr>\n",
       "    <tr>\n",
       "      <th>23968</th>\n",
       "      <td>кирпич керам полнотел одинарный м200</td>\n",
       "      <td>МатерСтроительные</td>\n",
       "    </tr>\n",
       "    <tr>\n",
       "      <th>23969</th>\n",
       "      <td>клеймо тв спл 122\"ф\" вк15</td>\n",
       "      <td>Инструменты</td>\n",
       "    </tr>\n",
       "    <tr>\n",
       "      <th>23970</th>\n",
       "      <td>элемент питания saft ls 14250/std 1/2aa</td>\n",
       "      <td>Запчасти</td>\n",
       "    </tr>\n",
       "    <tr>\n",
       "      <th>23971</th>\n",
       "      <td>труба бшхт ф170х140 н8 прецизионная</td>\n",
       "      <td>Металлопрокат</td>\n",
       "    </tr>\n",
       "  </tbody>\n",
       "</table>\n",
       "<p>23972 rows × 2 columns</p>\n",
       "</div>"
      ],
      "text/plain": [
       "                                          name                 group\n",
       "0                      державка 30531402 mapal                 Резцы\n",
       "1                   кабель кпсввнг-ls 1х2х0,75   Кабельная продукция\n",
       "2       трубка электроизоляционная ткр ф16,0мм  Изделия электроустан\n",
       "3         лента конвейер 2,1-1000-тк-200-2-5/2  ИзделияРезино-технич\n",
       "4      соединение быстроразъемное hs-ss-e-0100              Запчасти\n",
       "...                                        ...                   ...\n",
       "23967                  фреза шпоночная ц/х 8,0                 Фрезы\n",
       "23968     кирпич керам полнотел одинарный м200     МатерСтроительные\n",
       "23969                клеймо тв спл 122\"ф\" вк15           Инструменты\n",
       "23970  элемент питания saft ls 14250/std 1/2aa              Запчасти\n",
       "23971      труба бшхт ф170х140 н8 прецизионная         Металлопрокат\n",
       "\n",
       "[23972 rows x 2 columns]"
      ]
     },
     "execution_count": 50,
     "metadata": {},
     "output_type": "execute_result"
    }
   ],
   "source": [
    "# Читаем\n",
    "# Там разделитель \\t и нет имен столбцов\n",
    "data_train = pd.read_csv('train.txt', delimiter='\\t', header=0, names=['name', 'group'])\n",
    "data_validate = pd.read_csv('test.txt', delimiter='\\t', header=0, names=['name'])\n",
    "\n",
    "# В нижний регистр\n",
    "data_train['name'] = data_train['name'].str.lower()\n",
    "#data_train['group'] = data_train['group'].str.lower()\n",
    "\n",
    "data_validate['name'] = data_validate['name'].str.lower()\n",
    "\n",
    "data_train"
   ]
  },
  {
   "cell_type": "code",
   "execution_count": 51,
   "metadata": {},
   "outputs": [
    {
     "data": {
      "text/html": [
       "<div>\n",
       "<style scoped>\n",
       "    .dataframe tbody tr th:only-of-type {\n",
       "        vertical-align: middle;\n",
       "    }\n",
       "\n",
       "    .dataframe tbody tr th {\n",
       "        vertical-align: top;\n",
       "    }\n",
       "\n",
       "    .dataframe thead th {\n",
       "        text-align: right;\n",
       "    }\n",
       "</style>\n",
       "<table border=\"1\" class=\"dataframe\">\n",
       "  <thead>\n",
       "    <tr style=\"text-align: right;\">\n",
       "      <th></th>\n",
       "      <th>name</th>\n",
       "      <th>group</th>\n",
       "    </tr>\n",
       "  </thead>\n",
       "  <tbody>\n",
       "    <tr>\n",
       "      <th>0</th>\n",
       "      <td>державка          mapal</td>\n",
       "      <td>Резцы</td>\n",
       "    </tr>\n",
       "    <tr>\n",
       "      <th>1</th>\n",
       "      <td>кабель кпсввнг ls  х х</td>\n",
       "      <td>Кабельная продукция</td>\n",
       "    </tr>\n",
       "    <tr>\n",
       "      <th>2</th>\n",
       "      <td>трубка электроизоляционная ткр ф    мм</td>\n",
       "      <td>Изделия электроустан</td>\n",
       "    </tr>\n",
       "    <tr>\n",
       "      <th>3</th>\n",
       "      <td>лента конвейер          тк</td>\n",
       "      <td>ИзделияРезино-технич</td>\n",
       "    </tr>\n",
       "    <tr>\n",
       "      <th>4</th>\n",
       "      <td>соединение быстроразъемное hs ss e</td>\n",
       "      <td>Запчасти</td>\n",
       "    </tr>\n",
       "    <tr>\n",
       "      <th>...</th>\n",
       "      <td>...</td>\n",
       "      <td>...</td>\n",
       "    </tr>\n",
       "    <tr>\n",
       "      <th>23967</th>\n",
       "      <td>фреза шпоночная ц х</td>\n",
       "      <td>Фрезы</td>\n",
       "    </tr>\n",
       "    <tr>\n",
       "      <th>23968</th>\n",
       "      <td>кирпич керам полнотел одинарный м</td>\n",
       "      <td>МатерСтроительные</td>\n",
       "    </tr>\n",
       "    <tr>\n",
       "      <th>23969</th>\n",
       "      <td>клеймо тв спл     ф  вк</td>\n",
       "      <td>Инструменты</td>\n",
       "    </tr>\n",
       "    <tr>\n",
       "      <th>23970</th>\n",
       "      <td>элемент питания saft ls       std    aa</td>\n",
       "      <td>Запчасти</td>\n",
       "    </tr>\n",
       "    <tr>\n",
       "      <th>23971</th>\n",
       "      <td>труба бшхт ф   х    н  прецизионная</td>\n",
       "      <td>Металлопрокат</td>\n",
       "    </tr>\n",
       "  </tbody>\n",
       "</table>\n",
       "<p>23972 rows × 2 columns</p>\n",
       "</div>"
      ],
      "text/plain": [
       "                                          name                 group\n",
       "0                      державка          mapal                 Резцы\n",
       "1                   кабель кпсввнг ls  х х       Кабельная продукция\n",
       "2       трубка электроизоляционная ткр ф    мм  Изделия электроустан\n",
       "3         лента конвейер          тк            ИзделияРезино-технич\n",
       "4      соединение быстроразъемное hs ss e                   Запчасти\n",
       "...                                        ...                   ...\n",
       "23967                  фреза шпоночная ц х                     Фрезы\n",
       "23968     кирпич керам полнотел одинарный м        МатерСтроительные\n",
       "23969                клеймо тв спл     ф  вк             Инструменты\n",
       "23970  элемент питания saft ls       std    aa              Запчасти\n",
       "23971      труба бшхт ф   х    н  прецизионная         Металлопрокат\n",
       "\n",
       "[23972 rows x 2 columns]"
      ]
     },
     "execution_count": 51,
     "metadata": {},
     "output_type": "execute_result"
    }
   ],
   "source": [
    "# Удаляем всё, что не буквы и не цифры\n",
    "#data_train['name'] = data_train['name'].str.replace('[^a-zA-Zа-яА-Я1-9 ]', ' ')\n",
    "#data_validate['name'] = data_validate['name'].str.replace('[^a-zA-Zа-яА-Я1-9 ]', ' ')\n",
    "data_train['name'] = data_train['name'].str.replace('[^a-zA-Zа-яА-Я]', ' ')\n",
    "data_validate['name'] = data_validate['name'].str.replace('[^a-zA-Zа-яА-Я]', ' ')\n",
    "\n",
    "data_train"
   ]
  },
  {
   "cell_type": "code",
   "execution_count": 52,
   "metadata": {
    "scrolled": true
   },
   "outputs": [
    {
     "data": {
      "text/html": [
       "<div>\n",
       "<style scoped>\n",
       "    .dataframe tbody tr th:only-of-type {\n",
       "        vertical-align: middle;\n",
       "    }\n",
       "\n",
       "    .dataframe tbody tr th {\n",
       "        vertical-align: top;\n",
       "    }\n",
       "\n",
       "    .dataframe thead th {\n",
       "        text-align: right;\n",
       "    }\n",
       "</style>\n",
       "<table border=\"1\" class=\"dataframe\">\n",
       "  <thead>\n",
       "    <tr style=\"text-align: right;\">\n",
       "      <th></th>\n",
       "      <th>name</th>\n",
       "      <th>group</th>\n",
       "    </tr>\n",
       "  </thead>\n",
       "  <tbody>\n",
       "    <tr>\n",
       "      <th>0</th>\n",
       "      <td>державка mapal</td>\n",
       "      <td>Резцы</td>\n",
       "    </tr>\n",
       "    <tr>\n",
       "      <th>1</th>\n",
       "      <td>кабель кпсввнг ls</td>\n",
       "      <td>Кабельная продукция</td>\n",
       "    </tr>\n",
       "    <tr>\n",
       "      <th>2</th>\n",
       "      <td>трубка электроизоляционная ткр мм</td>\n",
       "      <td>Изделия электроустан</td>\n",
       "    </tr>\n",
       "    <tr>\n",
       "      <th>3</th>\n",
       "      <td>лента конвейер тк</td>\n",
       "      <td>ИзделияРезино-технич</td>\n",
       "    </tr>\n",
       "    <tr>\n",
       "      <th>4</th>\n",
       "      <td>соединение быстроразъемное hs ss</td>\n",
       "      <td>Запчасти</td>\n",
       "    </tr>\n",
       "    <tr>\n",
       "      <th>...</th>\n",
       "      <td>...</td>\n",
       "      <td>...</td>\n",
       "    </tr>\n",
       "    <tr>\n",
       "      <th>23967</th>\n",
       "      <td>фреза шпоночная</td>\n",
       "      <td>Фрезы</td>\n",
       "    </tr>\n",
       "    <tr>\n",
       "      <th>23968</th>\n",
       "      <td>кирпич керам полнотел одинарный</td>\n",
       "      <td>МатерСтроительные</td>\n",
       "    </tr>\n",
       "    <tr>\n",
       "      <th>23969</th>\n",
       "      <td>клеймо тв спл вк</td>\n",
       "      <td>Инструменты</td>\n",
       "    </tr>\n",
       "    <tr>\n",
       "      <th>23970</th>\n",
       "      <td>элемент питания saft ls std aa</td>\n",
       "      <td>Запчасти</td>\n",
       "    </tr>\n",
       "    <tr>\n",
       "      <th>23971</th>\n",
       "      <td>труба бшхт прецизионная</td>\n",
       "      <td>Металлопрокат</td>\n",
       "    </tr>\n",
       "  </tbody>\n",
       "</table>\n",
       "<p>23972 rows × 2 columns</p>\n",
       "</div>"
      ],
      "text/plain": [
       "                                    name                 group\n",
       "0                         державка mapal                 Резцы\n",
       "1                      кабель кпсввнг ls   Кабельная продукция\n",
       "2      трубка электроизоляционная ткр мм  Изделия электроустан\n",
       "3                      лента конвейер тк  ИзделияРезино-технич\n",
       "4       соединение быстроразъемное hs ss              Запчасти\n",
       "...                                  ...                   ...\n",
       "23967                    фреза шпоночная                 Фрезы\n",
       "23968    кирпич керам полнотел одинарный     МатерСтроительные\n",
       "23969                   клеймо тв спл вк           Инструменты\n",
       "23970     элемент питания saft ls std aa              Запчасти\n",
       "23971            труба бшхт прецизионная         Металлопрокат\n",
       "\n",
       "[23972 rows x 2 columns]"
      ]
     },
     "execution_count": 52,
     "metadata": {},
     "output_type": "execute_result"
    }
   ],
   "source": [
    "# Удаляем слова короче определенного количества символов\n",
    "\n",
    "min_len = 2\n",
    "data_train['name'] = data_train['name'].str.split().map(lambda sl: \" \".join(s for s in sl if len(s) >= min_len))\n",
    "data_validate['name'] = data_validate['name'].str.split().map(lambda sl: \" \".join(s for s in sl if len(s) >= min_len))\n",
    "\n",
    "data_train"
   ]
  },
  {
   "cell_type": "code",
   "execution_count": 49,
   "metadata": {},
   "outputs": [
    {
     "data": {
      "text/plain": [
       "0                            derzhavka mapal\n",
       "1                           kabel kpsvvng ls\n",
       "2        trubka elektroizolyacionnaya tkr mm\n",
       "3                          lenta konveier tk\n",
       "4            soedinenie bystrorazemnoe hs ss\n",
       "                        ...                 \n",
       "23967                     freza shponochnaya\n",
       "23968       kirpich keram polnotel odinarnyi\n",
       "23969                       kleimo tv spl vk\n",
       "23970        element pitaniya saft ls std aa\n",
       "23971              truba bshht precizionnaya\n",
       "Name: name, Length: 23972, dtype: object"
      ]
     },
     "execution_count": 49,
     "metadata": {},
     "output_type": "execute_result"
    }
   ],
   "source": [
    "# Попробуем кириллицу оттранслитить\n",
    "\n",
    "dictionary = {'а':'a','б':'b','в':'v','г':'g','д':'d','е':'e','ё':'yo',\n",
    "      'ж':'zh','з':'z','и':'i','й':'i','к':'k','л':'l','м':'m','н':'n',\n",
    "      'о':'o','п':'p','р':'r','с':'s','т':'t','у':'u','ф':'f','х':'h',\n",
    "      'ц':'c','ч':'ch','ш':'sh','щ':'sch','ъ':'','ы':'y','ь':'','э':'e',\n",
    "      'ю':'u','я':'ya'}\n",
    "\n",
    "for cyr, lat in dictionary.items():\n",
    "    data_train['name'] = data_train['name'].str.replace(cyr, lat)\n",
    "    data_validate['name'] = data_validate['name'].str.replace(cyr, lat)\n",
    "    \n",
    "data_train['name']"
   ]
  },
  {
   "cell_type": "code",
   "execution_count": 53,
   "metadata": {
    "scrolled": true
   },
   "outputs": [
    {
     "name": "stdout",
     "output_type": "stream",
     "text": [
      "Empty DataFrame\n",
      "Columns: [name, group]\n",
      "Index: []\n",
      "---------------------------------------------\n",
      "Empty DataFrame\n",
      "Columns: [name]\n",
      "Index: []\n"
     ]
    }
   ],
   "source": [
    "# Проверяем, не появилось ли пустых строк. Спойлер - появились\n",
    "print(data_train[data_train['name'] == ''])\n",
    "print('---------------------------------------------')\n",
    "print(data_validate[data_validate['name'] == ''])"
   ]
  },
  {
   "cell_type": "code",
   "execution_count": 54,
   "metadata": {},
   "outputs": [
    {
     "data": {
      "text/plain": [
       "40"
      ]
     },
     "execution_count": 54,
     "metadata": {},
     "output_type": "execute_result"
    }
   ],
   "source": [
    "# Длина самой длинной строки\n",
    "# Столько символов должна будет принимать нейронка, строки короче дополним пробелами\n",
    "max_str_len = data_train['name'].str.len().max()\n",
    "#print(max_str_len)\n",
    "\n",
    "def str_extension(strings, new_len):    \n",
    "    for i, str_i in enumerate(strings):\n",
    "        if len(str_i) < new_len:\n",
    "            strings[i] = str_i + ' '*(new_len - len(str_i))\n",
    "    return strings\n",
    "\n",
    "#text_train = str_extension(data_train['name'].tolist(), max_str_len)\n",
    "#text_validate = str_extension(data_validate['name'].tolist(), max_str_len)\n",
    "\n",
    "# Не будем удлинять, юзнем потом padsequence\n",
    "text_train = data_train['name'].tolist()\n",
    "text_validate = data_validate['name'].tolist()\n",
    "\n",
    "max_str_len"
   ]
  },
  {
   "cell_type": "code",
   "execution_count": 55,
   "metadata": {},
   "outputs": [
    {
     "name": "stdout",
     "output_type": "stream",
     "text": [
      "Количество уникальных символов: 59\n"
     ]
    },
    {
     "data": {
      "text/plain": [
       "(23972, 40)"
      ]
     },
     "execution_count": 55,
     "metadata": {},
     "output_type": "execute_result"
    }
   ],
   "source": [
    "# Превращаем тексты в последовательности чисел, соответствующих символам\n",
    "from keras.preprocessing.text import Tokenizer\n",
    "from keras.preprocessing.sequence import pad_sequences\n",
    "\n",
    "#tokenizer = Tokenizer(num_words=num_characters, char_level=True)\n",
    "tokenizer = Tokenizer(char_level=True, filters='')  # токенизируем на уровне символов\n",
    "tokenizer.fit_on_texts(data_train['name'].tolist())  # формируем токены на основе частотности в нашем тексте\n",
    "\n",
    "# Здесь каждую строку в лист чисел\n",
    "X_train = tokenizer.texts_to_sequences(text_train)\n",
    "X_validate = tokenizer.texts_to_sequences(text_validate)\n",
    "\n",
    "# Выравниваем длину, добавляя нули первыми\n",
    "X_train = pad_sequences(X_train, maxlen=max_str_len)\n",
    "X_validate = pad_sequences(X_validate,  maxlen=max_str_len)\n",
    "\n",
    "# Количество уникальных символов, которые мы тут имеем\n",
    "num_characters = len(tokenizer.word_index)\n",
    "print('Количество уникальных символов:', num_characters)\n",
    "X_train.shape"
   ]
  },
  {
   "cell_type": "code",
   "execution_count": 56,
   "metadata": {},
   "outputs": [
    {
     "data": {
      "text/plain": [
       "(23972, 40)"
      ]
     },
     "execution_count": 56,
     "metadata": {},
     "output_type": "execute_result"
    }
   ],
   "source": [
    "### !!! Это нужно, если на входе нет embedded-слоя. Он кушает прямо последовательности чисел\n",
    "\n",
    "# Теперь надо каждое число превратить в OHE-массив с длиной num_characters\n",
    "\n",
    "def sequences_tp_ohe_array(sequences, num_words):\n",
    "    ohe_arr = np.ndarray((sequences.shape[0], sequences.shape[1], num_words))\n",
    "    for i, sequence in enumerate(sequences):\n",
    "        for j, val in enumerate(sequence):\n",
    "            temp = np.zeros(num_words)\n",
    "            if val:\n",
    "                temp[val-1] = 1\n",
    "            ohe_arr[i, j] = temp\n",
    "    return ohe_arr\n",
    "\n",
    "#X_train = sequences_tp_ohe_array(X_train, num_characters)\n",
    "#X_validate = sequences_tp_ohe_array(X_validate, num_characters)\n",
    "\n",
    "# Такая функция уже есть, как не трудно было догадаться\n",
    "from tensorflow.keras.utils import to_categorical\n",
    "\n",
    "#X_train = to_categorical(X_train, num_classes=num_characters+1)\n",
    "#X_validate = to_categorical(X_validate, num_classes=num_characters+1)\n",
    "\n",
    "X_train.shape"
   ]
  },
  {
   "cell_type": "code",
   "execution_count": 57,
   "metadata": {},
   "outputs": [
    {
     "data": {
      "text/plain": [
       "array([[0., 0., 0., ..., 0., 0., 0.],\n",
       "       [0., 0., 0., ..., 0., 0., 0.],\n",
       "       [0., 0., 0., ..., 0., 0., 0.],\n",
       "       ...,\n",
       "       [0., 0., 0., ..., 0., 0., 0.],\n",
       "       [0., 0., 0., ..., 0., 0., 0.],\n",
       "       [0., 0., 0., ..., 0., 0., 0.]])"
      ]
     },
     "execution_count": 57,
     "metadata": {},
     "output_type": "execute_result"
    }
   ],
   "source": [
    "# Заменим категории на другой OHE\n",
    "from sklearn.preprocessing import OneHotEncoder\n",
    "\n",
    "enc = OneHotEncoder(handle_unknown='ignore')\n",
    "y_train = enc.fit_transform(data_train['group'].to_numpy().reshape(-1, 1)).toarray()\n",
    "y_train"
   ]
  },
  {
   "cell_type": "code",
   "execution_count": 58,
   "metadata": {},
   "outputs": [
    {
     "name": "stdout",
     "output_type": "stream",
     "text": [
      "96\n"
     ]
    }
   ],
   "source": [
    "# Количество уникальных классов\n",
    "n_categories = enc.categories_[0].shape[0]\n",
    "print(n_categories)"
   ]
  },
  {
   "cell_type": "code",
   "execution_count": 59,
   "metadata": {},
   "outputs": [
    {
     "name": "stdout",
     "output_type": "stream",
     "text": [
      "Model: \"sequential_5\"\n",
      "_________________________________________________________________\n",
      "Layer (type)                 Output Shape              Param #   \n",
      "=================================================================\n",
      "embedding_5 (Embedding)      (None, 40, 128)           7680      \n",
      "_________________________________________________________________\n",
      "gru (GRU)                    (None, 40, 128)           99072     \n",
      "_________________________________________________________________\n",
      "gru_1 (GRU)                  (None, 128)               99072     \n",
      "_________________________________________________________________\n",
      "dense_4 (Dense)              (None, 96)                12384     \n",
      "=================================================================\n",
      "Total params: 218,208\n",
      "Trainable params: 218,208\n",
      "Non-trainable params: 0\n",
      "_________________________________________________________________\n"
     ]
    }
   ],
   "source": [
    "# Попробуем простенькую модельку\n",
    "import keras as k\n",
    "\n",
    "model = k.models.Sequential()\n",
    "#model.add(k.layers.Input((max_str_len, num_characters)))\n",
    "model.add(k.layers.Embedding(num_characters+1, 128, input_length = max_str_len))\n",
    "model.add(k.layers.GRU(128, return_sequences=True))\n",
    "model.add(k.layers.GRU(128))\n",
    "model.add(k.layers.Dense(n_categories, activation='softmax'))\n",
    "model.summary()\n",
    "\n",
    "model.compile(loss='categorical_crossentropy', metrics=['accuracy'], optimizer='adam')"
   ]
  },
  {
   "cell_type": "code",
   "execution_count": 60,
   "metadata": {},
   "outputs": [
    {
     "name": "stdout",
     "output_type": "stream",
     "text": [
      "Epoch 1/20\n",
      "108/108 [==============================] - 32s 258ms/step - loss: 3.8983 - accuracy: 0.2312 - val_loss: 3.1523 - val_accuracy: 0.3399\n",
      "Epoch 2/20\n",
      "108/108 [==============================] - 29s 272ms/step - loss: 3.0531 - accuracy: 0.3466 - val_loss: 2.7372 - val_accuracy: 0.3891\n",
      "Epoch 3/20\n",
      "108/108 [==============================] - 28s 261ms/step - loss: 2.6391 - accuracy: 0.4102 - val_loss: 2.4065 - val_accuracy: 0.4529\n",
      "Epoch 4/20\n",
      "108/108 [==============================] - 27s 247ms/step - loss: 2.3147 - accuracy: 0.4632 - val_loss: 2.1330 - val_accuracy: 0.5058\n",
      "Epoch 5/20\n",
      "108/108 [==============================] - 29s 271ms/step - loss: 2.0395 - accuracy: 0.5144 - val_loss: 1.9038 - val_accuracy: 0.5550\n",
      "Epoch 6/20\n",
      "108/108 [==============================] - 29s 270ms/step - loss: 1.8232 - accuracy: 0.5636 - val_loss: 1.7391 - val_accuracy: 0.5784\n",
      "Epoch 7/20\n",
      "108/108 [==============================] - 29s 265ms/step - loss: 1.6168 - accuracy: 0.6031 - val_loss: 1.6056 - val_accuracy: 0.6184\n",
      "Epoch 8/20\n",
      "108/108 [==============================] - 29s 267ms/step - loss: 1.4430 - accuracy: 0.6420 - val_loss: 1.5062 - val_accuracy: 0.6355\n",
      "Epoch 9/20\n",
      "108/108 [==============================] - 28s 259ms/step - loss: 1.3387 - accuracy: 0.6641 - val_loss: 1.4180 - val_accuracy: 0.6514\n",
      "Epoch 10/20\n",
      "108/108 [==============================] - 27s 249ms/step - loss: 1.2210 - accuracy: 0.6890 - val_loss: 1.3440 - val_accuracy: 0.6672\n",
      "Epoch 11/20\n",
      "108/108 [==============================] - 26s 245ms/step - loss: 1.1193 - accuracy: 0.7088 - val_loss: 1.2954 - val_accuracy: 0.6877\n",
      "Epoch 12/20\n",
      "108/108 [==============================] - 29s 265ms/step - loss: 1.0265 - accuracy: 0.7283 - val_loss: 1.2437 - val_accuracy: 0.6893\n",
      "Epoch 13/20\n",
      "108/108 [==============================] - 29s 271ms/step - loss: 0.9589 - accuracy: 0.7473 - val_loss: 1.2031 - val_accuracy: 0.7023\n",
      "Epoch 14/20\n",
      "108/108 [==============================] - 27s 253ms/step - loss: 0.8787 - accuracy: 0.7645 - val_loss: 1.1678 - val_accuracy: 0.7198\n",
      "Epoch 15/20\n",
      "108/108 [==============================] - 25s 234ms/step - loss: 0.8175 - accuracy: 0.7766 - val_loss: 1.1433 - val_accuracy: 0.7152\n",
      "Epoch 16/20\n",
      "108/108 [==============================] - 26s 243ms/step - loss: 0.7392 - accuracy: 0.7942 - val_loss: 1.1375 - val_accuracy: 0.7273\n",
      "Epoch 17/20\n",
      "108/108 [==============================] - 26s 239ms/step - loss: 0.6878 - accuracy: 0.8054 - val_loss: 1.1308 - val_accuracy: 0.7239\n",
      "Epoch 18/20\n",
      "108/108 [==============================] - 25s 235ms/step - loss: 0.6514 - accuracy: 0.8151 - val_loss: 1.1103 - val_accuracy: 0.7335\n",
      "Epoch 19/20\n",
      "108/108 [==============================] - 25s 234ms/step - loss: 0.5920 - accuracy: 0.8345 - val_loss: 1.0944 - val_accuracy: 0.7331\n",
      "Epoch 20/20\n",
      "108/108 [==============================] - 25s 235ms/step - loss: 0.5441 - accuracy: 0.8482 - val_loss: 1.0846 - val_accuracy: 0.7360\n"
     ]
    }
   ],
   "source": [
    "# Учимся\n",
    "history = model.fit(X_train, y_train, batch_size=200, epochs=20, validation_split = 0.1)"
   ]
  },
  {
   "cell_type": "code",
   "execution_count": 61,
   "metadata": {},
   "outputs": [
    {
     "name": "stderr",
     "output_type": "stream",
     "text": [
      "WARNING:absl:Found untraced functions such as gru_cell_layer_call_fn, gru_cell_layer_call_and_return_conditional_losses, gru_cell_1_layer_call_fn, gru_cell_1_layer_call_and_return_conditional_losses, gru_cell_layer_call_fn while saving (showing 5 of 10). These functions will not be directly callable after loading.\n",
      "WARNING:absl:Found untraced functions such as gru_cell_layer_call_fn, gru_cell_layer_call_and_return_conditional_losses, gru_cell_1_layer_call_fn, gru_cell_1_layer_call_and_return_conditional_losses, gru_cell_layer_call_fn while saving (showing 5 of 10). These functions will not be directly callable after loading.\n"
     ]
    },
    {
     "name": "stdout",
     "output_type": "stream",
     "text": [
      "INFO:tensorflow:Assets written to: .\\simple_gru_saved\\assets\n"
     ]
    },
    {
     "name": "stderr",
     "output_type": "stream",
     "text": [
      "INFO:tensorflow:Assets written to: .\\simple_gru_saved\\assets\n"
     ]
    }
   ],
   "source": [
    "# Записываем веса в файл\n",
    "model.save('.\\\\simple_gru_saved')"
   ]
  },
  {
   "cell_type": "code",
   "execution_count": 62,
   "metadata": {},
   "outputs": [],
   "source": [
    "# Читаем веса из файла\n",
    "model = k.models.load_model('.\\\\simple_gru_saved')"
   ]
  },
  {
   "cell_type": "code",
   "execution_count": null,
   "metadata": {},
   "outputs": [],
   "source": []
  }
 ],
 "metadata": {
  "kernelspec": {
   "display_name": "Python 3",
   "language": "python",
   "name": "python3"
  },
  "language_info": {
   "codemirror_mode": {
    "name": "ipython",
    "version": 3
   },
   "file_extension": ".py",
   "mimetype": "text/x-python",
   "name": "python",
   "nbconvert_exporter": "python",
   "pygments_lexer": "ipython3",
   "version": "3.8.8"
  }
 },
 "nbformat": 4,
 "nbformat_minor": 4
}
